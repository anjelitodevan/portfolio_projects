{
 "cells": [
  {
   "cell_type": "code",
   "execution_count": 392,
   "id": "9ab1284e",
   "metadata": {},
   "outputs": [],
   "source": [
    "import pandas as pd\n",
    "import matplotlib\n",
    "import matplotlib.pyplot as plt\n",
    "import seaborn as sns\n",
    "%matplotlib inline\n",
    "matplotlib.rcParams['figure.figsize'] = [10, 6]"
   ]
  },
  {
   "cell_type": "markdown",
   "id": "9b32b89c",
   "metadata": {},
   "source": [
    "## Preparing the Data"
   ]
  },
  {
   "cell_type": "markdown",
   "id": "f9e12efd",
   "metadata": {},
   "source": [
    "### Import Main Data"
   ]
  },
  {
   "cell_type": "code",
   "execution_count": 393,
   "id": "bcb3e468",
   "metadata": {},
   "outputs": [],
   "source": [
    "path = r\"C:\\Users\\Anjelito\\Documents\\analysis - movies\\data\\tmdb_5000_movies.csv\"\n",
    "imdb_top_5000 = pd.read_csv(path)"
   ]
  },
  {
   "cell_type": "code",
   "execution_count": 394,
   "id": "8342a849",
   "metadata": {},
   "outputs": [
    {
     "data": {
      "text/plain": [
       "Index(['budget', 'genres', 'homepage', 'id', 'keywords', 'original_language',\n",
       "       'original_title', 'overview', 'popularity', 'production_companies',\n",
       "       'production_countries', 'release_date', 'revenue', 'runtime',\n",
       "       'spoken_languages', 'status', 'tagline', 'title', 'vote_average',\n",
       "       'vote_count'],\n",
       "      dtype='object')"
      ]
     },
     "execution_count": 394,
     "metadata": {},
     "output_type": "execute_result"
    }
   ],
   "source": [
    "imdb_top_5000.columns"
   ]
  },
  {
   "cell_type": "code",
   "execution_count": 395,
   "id": "9c07b2cb",
   "metadata": {},
   "outputs": [
    {
     "data": {
      "text/html": [
       "<div>\n",
       "<style scoped>\n",
       "    .dataframe tbody tr th:only-of-type {\n",
       "        vertical-align: middle;\n",
       "    }\n",
       "\n",
       "    .dataframe tbody tr th {\n",
       "        vertical-align: top;\n",
       "    }\n",
       "\n",
       "    .dataframe thead th {\n",
       "        text-align: right;\n",
       "    }\n",
       "</style>\n",
       "<table border=\"1\" class=\"dataframe\">\n",
       "  <thead>\n",
       "    <tr style=\"text-align: right;\">\n",
       "      <th></th>\n",
       "      <th>budget</th>\n",
       "      <th>genres</th>\n",
       "      <th>homepage</th>\n",
       "      <th>id</th>\n",
       "      <th>keywords</th>\n",
       "      <th>original_language</th>\n",
       "      <th>original_title</th>\n",
       "      <th>overview</th>\n",
       "      <th>popularity</th>\n",
       "      <th>production_companies</th>\n",
       "      <th>production_countries</th>\n",
       "      <th>release_date</th>\n",
       "      <th>revenue</th>\n",
       "      <th>runtime</th>\n",
       "      <th>spoken_languages</th>\n",
       "      <th>status</th>\n",
       "      <th>tagline</th>\n",
       "      <th>title</th>\n",
       "      <th>vote_average</th>\n",
       "      <th>vote_count</th>\n",
       "    </tr>\n",
       "  </thead>\n",
       "  <tbody>\n",
       "    <tr>\n",
       "      <th>0</th>\n",
       "      <td>237000000</td>\n",
       "      <td>[{\"id\": 28, \"name\": \"Action\"}, {\"id\": 12, \"nam...</td>\n",
       "      <td>http://www.avatarmovie.com/</td>\n",
       "      <td>19995</td>\n",
       "      <td>[{\"id\": 1463, \"name\": \"culture clash\"}, {\"id\":...</td>\n",
       "      <td>en</td>\n",
       "      <td>Avatar</td>\n",
       "      <td>In the 22nd century, a paraplegic Marine is di...</td>\n",
       "      <td>150.437577</td>\n",
       "      <td>[{\"name\": \"Ingenious Film Partners\", \"id\": 289...</td>\n",
       "      <td>[{\"iso_3166_1\": \"US\", \"name\": \"United States o...</td>\n",
       "      <td>2009-12-10</td>\n",
       "      <td>2787965087</td>\n",
       "      <td>162.0</td>\n",
       "      <td>[{\"iso_639_1\": \"en\", \"name\": \"English\"}, {\"iso...</td>\n",
       "      <td>Released</td>\n",
       "      <td>Enter the World of Pandora.</td>\n",
       "      <td>Avatar</td>\n",
       "      <td>7.2</td>\n",
       "      <td>11800</td>\n",
       "    </tr>\n",
       "  </tbody>\n",
       "</table>\n",
       "</div>"
      ],
      "text/plain": [
       "      budget                                             genres  \\\n",
       "0  237000000  [{\"id\": 28, \"name\": \"Action\"}, {\"id\": 12, \"nam...   \n",
       "\n",
       "                      homepage     id  \\\n",
       "0  http://www.avatarmovie.com/  19995   \n",
       "\n",
       "                                            keywords original_language  \\\n",
       "0  [{\"id\": 1463, \"name\": \"culture clash\"}, {\"id\":...                en   \n",
       "\n",
       "  original_title                                           overview  \\\n",
       "0         Avatar  In the 22nd century, a paraplegic Marine is di...   \n",
       "\n",
       "   popularity                               production_companies  \\\n",
       "0  150.437577  [{\"name\": \"Ingenious Film Partners\", \"id\": 289...   \n",
       "\n",
       "                                production_countries release_date     revenue  \\\n",
       "0  [{\"iso_3166_1\": \"US\", \"name\": \"United States o...   2009-12-10  2787965087   \n",
       "\n",
       "   runtime                                   spoken_languages    status  \\\n",
       "0    162.0  [{\"iso_639_1\": \"en\", \"name\": \"English\"}, {\"iso...  Released   \n",
       "\n",
       "                       tagline   title  vote_average  vote_count  \n",
       "0  Enter the World of Pandora.  Avatar           7.2       11800  "
      ]
     },
     "execution_count": 395,
     "metadata": {},
     "output_type": "execute_result"
    }
   ],
   "source": [
    "imdb_top_5000.head(1)"
   ]
  },
  {
   "cell_type": "code",
   "execution_count": 396,
   "id": "80c694a9",
   "metadata": {},
   "outputs": [],
   "source": [
    "imdb_top_5000_short = imdb_top_5000[['title', 'release_date', 'budget' ,'revenue']]"
   ]
  },
  {
   "cell_type": "code",
   "execution_count": 397,
   "id": "737b3f1e",
   "metadata": {},
   "outputs": [
    {
     "data": {
      "text/html": [
       "<div>\n",
       "<style scoped>\n",
       "    .dataframe tbody tr th:only-of-type {\n",
       "        vertical-align: middle;\n",
       "    }\n",
       "\n",
       "    .dataframe tbody tr th {\n",
       "        vertical-align: top;\n",
       "    }\n",
       "\n",
       "    .dataframe thead th {\n",
       "        text-align: right;\n",
       "    }\n",
       "</style>\n",
       "<table border=\"1\" class=\"dataframe\">\n",
       "  <thead>\n",
       "    <tr style=\"text-align: right;\">\n",
       "      <th></th>\n",
       "      <th>title</th>\n",
       "      <th>release_date</th>\n",
       "      <th>budget</th>\n",
       "      <th>revenue</th>\n",
       "    </tr>\n",
       "  </thead>\n",
       "  <tbody>\n",
       "    <tr>\n",
       "      <th>0</th>\n",
       "      <td>Avatar</td>\n",
       "      <td>2009-12-10</td>\n",
       "      <td>237000000</td>\n",
       "      <td>2787965087</td>\n",
       "    </tr>\n",
       "    <tr>\n",
       "      <th>1</th>\n",
       "      <td>Pirates of the Caribbean: At World's End</td>\n",
       "      <td>2007-05-19</td>\n",
       "      <td>300000000</td>\n",
       "      <td>961000000</td>\n",
       "    </tr>\n",
       "  </tbody>\n",
       "</table>\n",
       "</div>"
      ],
      "text/plain": [
       "                                      title release_date     budget  \\\n",
       "0                                    Avatar   2009-12-10  237000000   \n",
       "1  Pirates of the Caribbean: At World's End   2007-05-19  300000000   \n",
       "\n",
       "      revenue  \n",
       "0  2787965087  \n",
       "1   961000000  "
      ]
     },
     "execution_count": 397,
     "metadata": {},
     "output_type": "execute_result"
    }
   ],
   "source": [
    "imdb_top_5000_short.head(2)"
   ]
  },
  {
   "cell_type": "code",
   "execution_count": 398,
   "id": "f81c4e44",
   "metadata": {},
   "outputs": [
    {
     "name": "stdout",
     "output_type": "stream",
     "text": [
      "<class 'pandas.core.frame.DataFrame'>\n",
      "RangeIndex: 4803 entries, 0 to 4802\n",
      "Data columns (total 4 columns):\n",
      " #   Column        Non-Null Count  Dtype \n",
      "---  ------        --------------  ----- \n",
      " 0   title         4803 non-null   object\n",
      " 1   release_date  4802 non-null   object\n",
      " 2   budget        4803 non-null   int64 \n",
      " 3   revenue       4803 non-null   int64 \n",
      "dtypes: int64(2), object(2)\n",
      "memory usage: 150.2+ KB\n"
     ]
    }
   ],
   "source": [
    "imdb_top_5000_short.info()"
   ]
  },
  {
   "cell_type": "markdown",
   "id": "610be9a9",
   "metadata": {},
   "source": [
    "### Import Additional Data"
   ]
  },
  {
   "cell_type": "code",
   "execution_count": 399,
   "id": "48850991",
   "metadata": {},
   "outputs": [],
   "source": [
    "path = r\"C:\\Users\\Anjelito\\Documents\\analysis - movies\\data\\tmdb_movies_data.csv\"\n",
    "additional_data = pd.read_csv(path)"
   ]
  },
  {
   "cell_type": "code",
   "execution_count": 400,
   "id": "2f045385",
   "metadata": {},
   "outputs": [
    {
     "data": {
      "text/plain": [
       "Index(['id', 'imdb_id', 'popularity', 'budget', 'revenue', 'original_title',\n",
       "       'cast', 'homepage', 'director', 'tagline', 'keywords', 'overview',\n",
       "       'runtime', 'genres', 'production_companies', 'release_date',\n",
       "       'vote_count', 'vote_average', 'release_year', 'budget_adj',\n",
       "       'revenue_adj'],\n",
       "      dtype='object')"
      ]
     },
     "execution_count": 400,
     "metadata": {},
     "output_type": "execute_result"
    }
   ],
   "source": [
    "additional_data.columns"
   ]
  },
  {
   "cell_type": "code",
   "execution_count": 401,
   "id": "7823bf0a",
   "metadata": {},
   "outputs": [],
   "source": [
    "additional_data_short = additional_data[['original_title','cast', 'director', \n",
    "                                         'genres',  'production_companies']]"
   ]
  },
  {
   "cell_type": "markdown",
   "id": "dc398792",
   "metadata": {},
   "source": [
    "### Merging Data"
   ]
  },
  {
   "cell_type": "code",
   "execution_count": 402,
   "id": "21f7517e",
   "metadata": {},
   "outputs": [],
   "source": [
    "imdb_top_5000_merged = imdb_top_5000_short.merge(right = additional_data_short, how = \"inner\", left_on= \"title\", \n",
    "                          right_on= \"original_title\").drop(\"original_title\", axis = \"columns\")"
   ]
  },
  {
   "cell_type": "code",
   "execution_count": 403,
   "id": "8053f5d1",
   "metadata": {},
   "outputs": [
    {
     "data": {
      "text/html": [
       "<div>\n",
       "<style scoped>\n",
       "    .dataframe tbody tr th:only-of-type {\n",
       "        vertical-align: middle;\n",
       "    }\n",
       "\n",
       "    .dataframe tbody tr th {\n",
       "        vertical-align: top;\n",
       "    }\n",
       "\n",
       "    .dataframe thead th {\n",
       "        text-align: right;\n",
       "    }\n",
       "</style>\n",
       "<table border=\"1\" class=\"dataframe\">\n",
       "  <thead>\n",
       "    <tr style=\"text-align: right;\">\n",
       "      <th></th>\n",
       "      <th>title</th>\n",
       "      <th>release_date</th>\n",
       "      <th>budget</th>\n",
       "      <th>revenue</th>\n",
       "      <th>cast</th>\n",
       "      <th>director</th>\n",
       "      <th>genres</th>\n",
       "      <th>production_companies</th>\n",
       "    </tr>\n",
       "  </thead>\n",
       "  <tbody>\n",
       "    <tr>\n",
       "      <th>0</th>\n",
       "      <td>Avatar</td>\n",
       "      <td>2009-12-10</td>\n",
       "      <td>237000000</td>\n",
       "      <td>2787965087</td>\n",
       "      <td>Sam Worthington|Zoe Saldana|Sigourney Weaver|S...</td>\n",
       "      <td>James Cameron</td>\n",
       "      <td>Action|Adventure|Fantasy|Science Fiction</td>\n",
       "      <td>Ingenious Film Partners|Twentieth Century Fox ...</td>\n",
       "    </tr>\n",
       "  </tbody>\n",
       "</table>\n",
       "</div>"
      ],
      "text/plain": [
       "    title release_date     budget     revenue  \\\n",
       "0  Avatar   2009-12-10  237000000  2787965087   \n",
       "\n",
       "                                                cast       director  \\\n",
       "0  Sam Worthington|Zoe Saldana|Sigourney Weaver|S...  James Cameron   \n",
       "\n",
       "                                     genres  \\\n",
       "0  Action|Adventure|Fantasy|Science Fiction   \n",
       "\n",
       "                                production_companies  \n",
       "0  Ingenious Film Partners|Twentieth Century Fox ...  "
      ]
     },
     "execution_count": 403,
     "metadata": {},
     "output_type": "execute_result"
    }
   ],
   "source": [
    "imdb_top_5000_merged.head(1)"
   ]
  },
  {
   "cell_type": "markdown",
   "id": "d1a07ab8",
   "metadata": {},
   "source": [
    "### Cleaning Data"
   ]
  },
  {
   "cell_type": "code",
   "execution_count": 404,
   "id": "e2d3efd6",
   "metadata": {},
   "outputs": [
    {
     "name": "stdout",
     "output_type": "stream",
     "text": [
      "<class 'pandas.core.frame.DataFrame'>\n",
      "Int64Index: 3904 entries, 0 to 3903\n",
      "Data columns (total 8 columns):\n",
      " #   Column                Non-Null Count  Dtype \n",
      "---  ------                --------------  ----- \n",
      " 0   title                 3904 non-null   object\n",
      " 1   release_date          3904 non-null   object\n",
      " 2   budget                3904 non-null   int64 \n",
      " 3   revenue               3904 non-null   int64 \n",
      " 4   cast                  3901 non-null   object\n",
      " 5   director              3903 non-null   object\n",
      " 6   genres                3904 non-null   object\n",
      " 7   production_companies  3797 non-null   object\n",
      "dtypes: int64(2), object(6)\n",
      "memory usage: 274.5+ KB\n"
     ]
    }
   ],
   "source": [
    "imdb_top_5000_merged.info()"
   ]
  },
  {
   "cell_type": "code",
   "execution_count": 405,
   "id": "4ee425af",
   "metadata": {},
   "outputs": [],
   "source": [
    "imdb_top_5000_merged[\"main_genres\"] = imdb_top_5000_merged[\"genres\"].apply(lambda x: x.split(\"|\")[0])"
   ]
  },
  {
   "cell_type": "code",
   "execution_count": 406,
   "id": "fac106f3",
   "metadata": {},
   "outputs": [
    {
     "data": {
      "text/html": [
       "<div>\n",
       "<style scoped>\n",
       "    .dataframe tbody tr th:only-of-type {\n",
       "        vertical-align: middle;\n",
       "    }\n",
       "\n",
       "    .dataframe tbody tr th {\n",
       "        vertical-align: top;\n",
       "    }\n",
       "\n",
       "    .dataframe thead th {\n",
       "        text-align: right;\n",
       "    }\n",
       "</style>\n",
       "<table border=\"1\" class=\"dataframe\">\n",
       "  <thead>\n",
       "    <tr style=\"text-align: right;\">\n",
       "      <th></th>\n",
       "      <th>title</th>\n",
       "      <th>release_date</th>\n",
       "      <th>budget</th>\n",
       "      <th>revenue</th>\n",
       "      <th>cast</th>\n",
       "      <th>director</th>\n",
       "      <th>genres</th>\n",
       "      <th>production_companies</th>\n",
       "      <th>main_genres</th>\n",
       "    </tr>\n",
       "  </thead>\n",
       "  <tbody>\n",
       "    <tr>\n",
       "      <th>0</th>\n",
       "      <td>Avatar</td>\n",
       "      <td>2009-12-10</td>\n",
       "      <td>237000000</td>\n",
       "      <td>2787965087</td>\n",
       "      <td>Sam Worthington|Zoe Saldana|Sigourney Weaver|S...</td>\n",
       "      <td>James Cameron</td>\n",
       "      <td>Action|Adventure|Fantasy|Science Fiction</td>\n",
       "      <td>Ingenious Film Partners|Twentieth Century Fox ...</td>\n",
       "      <td>Action</td>\n",
       "    </tr>\n",
       "  </tbody>\n",
       "</table>\n",
       "</div>"
      ],
      "text/plain": [
       "    title release_date     budget     revenue  \\\n",
       "0  Avatar   2009-12-10  237000000  2787965087   \n",
       "\n",
       "                                                cast       director  \\\n",
       "0  Sam Worthington|Zoe Saldana|Sigourney Weaver|S...  James Cameron   \n",
       "\n",
       "                                     genres  \\\n",
       "0  Action|Adventure|Fantasy|Science Fiction   \n",
       "\n",
       "                                production_companies main_genres  \n",
       "0  Ingenious Film Partners|Twentieth Century Fox ...      Action  "
      ]
     },
     "execution_count": 406,
     "metadata": {},
     "output_type": "execute_result"
    }
   ],
   "source": [
    "imdb_top_5000_merged.head(1)"
   ]
  },
  {
   "cell_type": "code",
   "execution_count": 407,
   "id": "b8e5768d",
   "metadata": {},
   "outputs": [],
   "source": [
    "mask = imdb_top_5000_merged[\"cast\"].notnull()"
   ]
  },
  {
   "cell_type": "code",
   "execution_count": 408,
   "id": "b7b35eb1",
   "metadata": {},
   "outputs": [],
   "source": [
    "imdb_top_5000_merged[\"cast_1\"] = imdb_top_5000_merged[mask][\"cast\"].apply(lambda x: x.split(\"|\")[0])"
   ]
  },
  {
   "cell_type": "code",
   "execution_count": 409,
   "id": "47560a3a",
   "metadata": {},
   "outputs": [],
   "source": [
    "def get_cast_2(casts):\n",
    "    try:\n",
    "        return casts.split(\"|\")[1]\n",
    "    except IndexError:\n",
    "        pass\n",
    "    else:\n",
    "        return null\n",
    "    \n",
    "def get_cast_3(casts):\n",
    "    try:\n",
    "        return casts.split(\"|\")[2]\n",
    "    except IndexError:\n",
    "        pass\n",
    "    else:\n",
    "        return null\n",
    "    \n",
    "def get_director(director):\n",
    "    try:\n",
    "        return director.split(\"|\")[0]\n",
    "    except IndexError:\n",
    "        pass\n",
    "    else:\n",
    "        return null"
   ]
  },
  {
   "cell_type": "code",
   "execution_count": 410,
   "id": "78fe5b5c",
   "metadata": {},
   "outputs": [],
   "source": [
    "imdb_top_5000_merged[\"cast_2\"] = imdb_top_5000_merged[mask][\"cast\"].apply(lambda x: get_cast_2(x))"
   ]
  },
  {
   "cell_type": "code",
   "execution_count": 411,
   "id": "80c308b3",
   "metadata": {},
   "outputs": [],
   "source": [
    "imdb_top_5000_merged[\"cast_3\"] = imdb_top_5000_merged[mask][\"cast\"].apply(lambda x: get_cast_3(x))"
   ]
  },
  {
   "cell_type": "code",
   "execution_count": 412,
   "id": "d455b9bb",
   "metadata": {},
   "outputs": [],
   "source": [
    "mask = imdb_top_5000_merged[\"director\"].notnull()\n",
    "imdb_top_5000_merged[\"main_director\"] = imdb_top_5000_merged[mask][\"director\"].apply(lambda x: get_director(x))"
   ]
  },
  {
   "cell_type": "code",
   "execution_count": 413,
   "id": "e2ea5099",
   "metadata": {},
   "outputs": [
    {
     "data": {
      "text/html": [
       "<div>\n",
       "<style scoped>\n",
       "    .dataframe tbody tr th:only-of-type {\n",
       "        vertical-align: middle;\n",
       "    }\n",
       "\n",
       "    .dataframe tbody tr th {\n",
       "        vertical-align: top;\n",
       "    }\n",
       "\n",
       "    .dataframe thead th {\n",
       "        text-align: right;\n",
       "    }\n",
       "</style>\n",
       "<table border=\"1\" class=\"dataframe\">\n",
       "  <thead>\n",
       "    <tr style=\"text-align: right;\">\n",
       "      <th></th>\n",
       "      <th>title</th>\n",
       "      <th>release_date</th>\n",
       "      <th>budget</th>\n",
       "      <th>revenue</th>\n",
       "      <th>cast</th>\n",
       "      <th>director</th>\n",
       "      <th>genres</th>\n",
       "      <th>production_companies</th>\n",
       "      <th>main_genres</th>\n",
       "      <th>cast_1</th>\n",
       "      <th>cast_2</th>\n",
       "      <th>cast_3</th>\n",
       "      <th>main_director</th>\n",
       "    </tr>\n",
       "  </thead>\n",
       "  <tbody>\n",
       "    <tr>\n",
       "      <th>0</th>\n",
       "      <td>Avatar</td>\n",
       "      <td>2009-12-10</td>\n",
       "      <td>237000000</td>\n",
       "      <td>2787965087</td>\n",
       "      <td>Sam Worthington|Zoe Saldana|Sigourney Weaver|S...</td>\n",
       "      <td>James Cameron</td>\n",
       "      <td>Action|Adventure|Fantasy|Science Fiction</td>\n",
       "      <td>Ingenious Film Partners|Twentieth Century Fox ...</td>\n",
       "      <td>Action</td>\n",
       "      <td>Sam Worthington</td>\n",
       "      <td>Zoe Saldana</td>\n",
       "      <td>Sigourney Weaver</td>\n",
       "      <td>James Cameron</td>\n",
       "    </tr>\n",
       "  </tbody>\n",
       "</table>\n",
       "</div>"
      ],
      "text/plain": [
       "    title release_date     budget     revenue  \\\n",
       "0  Avatar   2009-12-10  237000000  2787965087   \n",
       "\n",
       "                                                cast       director  \\\n",
       "0  Sam Worthington|Zoe Saldana|Sigourney Weaver|S...  James Cameron   \n",
       "\n",
       "                                     genres  \\\n",
       "0  Action|Adventure|Fantasy|Science Fiction   \n",
       "\n",
       "                                production_companies main_genres  \\\n",
       "0  Ingenious Film Partners|Twentieth Century Fox ...      Action   \n",
       "\n",
       "            cast_1       cast_2            cast_3  main_director  \n",
       "0  Sam Worthington  Zoe Saldana  Sigourney Weaver  James Cameron  "
      ]
     },
     "execution_count": 413,
     "metadata": {},
     "output_type": "execute_result"
    }
   ],
   "source": [
    "imdb_top_5000_merged.head(1)"
   ]
  },
  {
   "cell_type": "code",
   "execution_count": 414,
   "id": "f55629c0",
   "metadata": {},
   "outputs": [
    {
     "data": {
      "text/plain": [
       "Index(['title', 'release_date', 'budget', 'revenue', 'cast', 'director',\n",
       "       'genres', 'production_companies', 'main_genres', 'cast_1', 'cast_2',\n",
       "       'cast_3', 'main_director'],\n",
       "      dtype='object')"
      ]
     },
     "execution_count": 414,
     "metadata": {},
     "output_type": "execute_result"
    }
   ],
   "source": [
    "imdb_top_5000_merged.columns"
   ]
  },
  {
   "cell_type": "code",
   "execution_count": 415,
   "id": "fdd9b07d",
   "metadata": {},
   "outputs": [],
   "source": [
    "imdb_top_5000_merged = imdb_top_5000_merged[['title', 'release_date','main_genres','main_director',\n",
    "                                             'cast_1', 'cast_2', 'cast_3','budget', 'revenue']]"
   ]
  },
  {
   "cell_type": "code",
   "execution_count": 416,
   "id": "98327409",
   "metadata": {},
   "outputs": [],
   "source": [
    "imdb_top_5000_merged = imdb_top_5000_merged.fillna(\"No Data\")"
   ]
  },
  {
   "cell_type": "code",
   "execution_count": 417,
   "id": "147c3ed5",
   "metadata": {},
   "outputs": [],
   "source": [
    "imdb_top_5000_merged.replace(\"None\", \"No Data\", inplace = True)"
   ]
  },
  {
   "cell_type": "code",
   "execution_count": 418,
   "id": "105b26a0",
   "metadata": {},
   "outputs": [
    {
     "name": "stdout",
     "output_type": "stream",
     "text": [
      "<class 'pandas.core.frame.DataFrame'>\n",
      "Int64Index: 3904 entries, 0 to 3903\n",
      "Data columns (total 9 columns):\n",
      " #   Column         Non-Null Count  Dtype \n",
      "---  ------         --------------  ----- \n",
      " 0   title          3904 non-null   object\n",
      " 1   release_date   3904 non-null   object\n",
      " 2   main_genres    3904 non-null   object\n",
      " 3   main_director  3904 non-null   object\n",
      " 4   cast_1         3904 non-null   object\n",
      " 5   cast_2         3904 non-null   object\n",
      " 6   cast_3         3904 non-null   object\n",
      " 7   budget         3904 non-null   int64 \n",
      " 8   revenue        3904 non-null   int64 \n",
      "dtypes: int64(2), object(7)\n",
      "memory usage: 305.0+ KB\n"
     ]
    }
   ],
   "source": [
    "imdb_top_5000_merged.info()"
   ]
  },
  {
   "cell_type": "code",
   "execution_count": 419,
   "id": "ca7cb2f3",
   "metadata": {},
   "outputs": [],
   "source": [
    "imdb_top_5000_merged[\"release_date\"] = pd.to_datetime(imdb_top_5000_merged[\"release_date\"])"
   ]
  },
  {
   "cell_type": "code",
   "execution_count": 420,
   "id": "8d40965a",
   "metadata": {},
   "outputs": [
    {
     "name": "stdout",
     "output_type": "stream",
     "text": [
      "<class 'pandas.core.frame.DataFrame'>\n",
      "Int64Index: 3904 entries, 0 to 3903\n",
      "Data columns (total 9 columns):\n",
      " #   Column         Non-Null Count  Dtype         \n",
      "---  ------         --------------  -----         \n",
      " 0   title          3904 non-null   object        \n",
      " 1   release_date   3904 non-null   datetime64[ns]\n",
      " 2   main_genres    3904 non-null   object        \n",
      " 3   main_director  3904 non-null   object        \n",
      " 4   cast_1         3904 non-null   object        \n",
      " 5   cast_2         3904 non-null   object        \n",
      " 6   cast_3         3904 non-null   object        \n",
      " 7   budget         3904 non-null   int64         \n",
      " 8   revenue        3904 non-null   int64         \n",
      "dtypes: datetime64[ns](1), int64(2), object(6)\n",
      "memory usage: 305.0+ KB\n"
     ]
    }
   ],
   "source": [
    "imdb_top_5000_merged.info()"
   ]
  },
  {
   "cell_type": "code",
   "execution_count": 421,
   "id": "1b92eab4",
   "metadata": {},
   "outputs": [],
   "source": [
    "imdb_top_5000_clean = imdb_top_5000_merged[(imdb_top_5000_merged.iloc[:, 1:] != 0).all(axis=1)]"
   ]
  },
  {
   "cell_type": "code",
   "execution_count": 422,
   "id": "e2529613",
   "metadata": {
    "scrolled": false
   },
   "outputs": [],
   "source": [
    "imdb_top_5000_clean = imdb_top_5000_clean.sort_values(by = [\"title\", \"release_date\"],\n",
    "                                                      ascending= True, ignore_index= True)"
   ]
  },
  {
   "cell_type": "code",
   "execution_count": 441,
   "id": "801681f9",
   "metadata": {},
   "outputs": [
    {
     "data": {
      "text/html": [
       "<div>\n",
       "<style scoped>\n",
       "    .dataframe tbody tr th:only-of-type {\n",
       "        vertical-align: middle;\n",
       "    }\n",
       "\n",
       "    .dataframe tbody tr th {\n",
       "        vertical-align: top;\n",
       "    }\n",
       "\n",
       "    .dataframe thead th {\n",
       "        text-align: right;\n",
       "    }\n",
       "</style>\n",
       "<table border=\"1\" class=\"dataframe\">\n",
       "  <thead>\n",
       "    <tr style=\"text-align: right;\">\n",
       "      <th></th>\n",
       "      <th>title</th>\n",
       "      <th>release_date</th>\n",
       "      <th>main_genres</th>\n",
       "      <th>main_director</th>\n",
       "      <th>cast_1</th>\n",
       "      <th>cast_2</th>\n",
       "      <th>cast_3</th>\n",
       "      <th>budget</th>\n",
       "      <th>revenue</th>\n",
       "    </tr>\n",
       "  </thead>\n",
       "  <tbody>\n",
       "    <tr>\n",
       "      <th>0</th>\n",
       "      <td>(500) Days of Summer</td>\n",
       "      <td>2009-07-17</td>\n",
       "      <td>Comedy</td>\n",
       "      <td>Marc Webb</td>\n",
       "      <td>Joseph Gordon-Levitt</td>\n",
       "      <td>Zooey Deschanel</td>\n",
       "      <td>ChloÃ« Grace Moretz</td>\n",
       "      <td>7500000</td>\n",
       "      <td>60722734</td>\n",
       "    </tr>\n",
       "    <tr>\n",
       "      <th>1</th>\n",
       "      <td>10 Things I Hate About You</td>\n",
       "      <td>1999-03-30</td>\n",
       "      <td>Comedy</td>\n",
       "      <td>Gil Junger</td>\n",
       "      <td>Julia Stiles</td>\n",
       "      <td>Heath Ledger</td>\n",
       "      <td>Joseph Gordon-Levitt</td>\n",
       "      <td>16000000</td>\n",
       "      <td>53478166</td>\n",
       "    </tr>\n",
       "  </tbody>\n",
       "</table>\n",
       "</div>"
      ],
      "text/plain": [
       "                        title release_date main_genres main_director  \\\n",
       "0        (500) Days of Summer   2009-07-17      Comedy     Marc Webb   \n",
       "1  10 Things I Hate About You   1999-03-30      Comedy    Gil Junger   \n",
       "\n",
       "                 cast_1           cast_2                cast_3    budget  \\\n",
       "0  Joseph Gordon-Levitt  Zooey Deschanel   ChloÃ« Grace Moretz   7500000   \n",
       "1          Julia Stiles     Heath Ledger  Joseph Gordon-Levitt  16000000   \n",
       "\n",
       "    revenue  \n",
       "0  60722734  \n",
       "1  53478166  "
      ]
     },
     "execution_count": 441,
     "metadata": {},
     "output_type": "execute_result"
    }
   ],
   "source": [
    "imdb_top_5000_clean.head(2)"
   ]
  },
  {
   "cell_type": "code",
   "execution_count": 424,
   "id": "3b305808",
   "metadata": {},
   "outputs": [],
   "source": [
    "imdb_top_5000_clean.drop_duplicates(subset = \"title\", inplace = True, ignore_index= True)"
   ]
  },
  {
   "cell_type": "code",
   "execution_count": 442,
   "id": "977ef8d4",
   "metadata": {},
   "outputs": [
    {
     "data": {
      "text/html": [
       "<div>\n",
       "<style scoped>\n",
       "    .dataframe tbody tr th:only-of-type {\n",
       "        vertical-align: middle;\n",
       "    }\n",
       "\n",
       "    .dataframe tbody tr th {\n",
       "        vertical-align: top;\n",
       "    }\n",
       "\n",
       "    .dataframe thead th {\n",
       "        text-align: right;\n",
       "    }\n",
       "</style>\n",
       "<table border=\"1\" class=\"dataframe\">\n",
       "  <thead>\n",
       "    <tr style=\"text-align: right;\">\n",
       "      <th></th>\n",
       "      <th>title</th>\n",
       "      <th>release_date</th>\n",
       "      <th>main_genres</th>\n",
       "      <th>main_director</th>\n",
       "      <th>cast_1</th>\n",
       "      <th>cast_2</th>\n",
       "      <th>cast_3</th>\n",
       "      <th>budget</th>\n",
       "      <th>revenue</th>\n",
       "    </tr>\n",
       "  </thead>\n",
       "  <tbody>\n",
       "    <tr>\n",
       "      <th>0</th>\n",
       "      <td>(500) Days of Summer</td>\n",
       "      <td>2009-07-17</td>\n",
       "      <td>Comedy</td>\n",
       "      <td>Marc Webb</td>\n",
       "      <td>Joseph Gordon-Levitt</td>\n",
       "      <td>Zooey Deschanel</td>\n",
       "      <td>ChloÃ« Grace Moretz</td>\n",
       "      <td>7500000</td>\n",
       "      <td>60722734</td>\n",
       "    </tr>\n",
       "    <tr>\n",
       "      <th>1</th>\n",
       "      <td>10 Things I Hate About You</td>\n",
       "      <td>1999-03-30</td>\n",
       "      <td>Comedy</td>\n",
       "      <td>Gil Junger</td>\n",
       "      <td>Julia Stiles</td>\n",
       "      <td>Heath Ledger</td>\n",
       "      <td>Joseph Gordon-Levitt</td>\n",
       "      <td>16000000</td>\n",
       "      <td>53478166</td>\n",
       "    </tr>\n",
       "  </tbody>\n",
       "</table>\n",
       "</div>"
      ],
      "text/plain": [
       "                        title release_date main_genres main_director  \\\n",
       "0        (500) Days of Summer   2009-07-17      Comedy     Marc Webb   \n",
       "1  10 Things I Hate About You   1999-03-30      Comedy    Gil Junger   \n",
       "\n",
       "                 cast_1           cast_2                cast_3    budget  \\\n",
       "0  Joseph Gordon-Levitt  Zooey Deschanel   ChloÃ« Grace Moretz   7500000   \n",
       "1          Julia Stiles     Heath Ledger  Joseph Gordon-Levitt  16000000   \n",
       "\n",
       "    revenue  \n",
       "0  60722734  \n",
       "1  53478166  "
      ]
     },
     "execution_count": 442,
     "metadata": {},
     "output_type": "execute_result"
    }
   ],
   "source": [
    "imdb_top_5000_clean.head(2)"
   ]
  },
  {
   "cell_type": "markdown",
   "id": "8f9b267c",
   "metadata": {},
   "source": [
    "## Analyze Correlation Betweeen Budget and Revenue"
   ]
  },
  {
   "cell_type": "code",
   "execution_count": 427,
   "id": "6af78bac",
   "metadata": {},
   "outputs": [
    {
     "data": {
      "text/html": [
       "<div>\n",
       "<style scoped>\n",
       "    .dataframe tbody tr th:only-of-type {\n",
       "        vertical-align: middle;\n",
       "    }\n",
       "\n",
       "    .dataframe tbody tr th {\n",
       "        vertical-align: top;\n",
       "    }\n",
       "\n",
       "    .dataframe thead th {\n",
       "        text-align: right;\n",
       "    }\n",
       "</style>\n",
       "<table border=\"1\" class=\"dataframe\">\n",
       "  <thead>\n",
       "    <tr style=\"text-align: right;\">\n",
       "      <th></th>\n",
       "      <th>budget</th>\n",
       "      <th>revenue</th>\n",
       "    </tr>\n",
       "  </thead>\n",
       "  <tbody>\n",
       "    <tr>\n",
       "      <th>budget</th>\n",
       "      <td>1.000000</td>\n",
       "      <td>0.697011</td>\n",
       "    </tr>\n",
       "    <tr>\n",
       "      <th>revenue</th>\n",
       "      <td>0.697011</td>\n",
       "      <td>1.000000</td>\n",
       "    </tr>\n",
       "  </tbody>\n",
       "</table>\n",
       "</div>"
      ],
      "text/plain": [
       "           budget   revenue\n",
       "budget   1.000000  0.697011\n",
       "revenue  0.697011  1.000000"
      ]
     },
     "execution_count": 427,
     "metadata": {},
     "output_type": "execute_result"
    }
   ],
   "source": [
    "imdb_top_5000_clean.corr()"
   ]
  },
  {
   "cell_type": "code",
   "execution_count": 426,
   "id": "7cf2183a",
   "metadata": {},
   "outputs": [
    {
     "data": {
      "text/plain": [
       "Text(0, 0.5, 'Revenue')"
      ]
     },
     "execution_count": 426,
     "metadata": {},
     "output_type": "execute_result"
    },
    {
     "data": {
      "image/png": "[encoded data removed]",
      "text/plain": [
       "<Figure size 720x432 with 1 Axes>"
      ]
     },
     "metadata": {
      "needs_background": "light"
     },
     "output_type": "display_data"
    }
   ],
   "source": [
    "sns.regplot(x=\"budget\", y=\"revenue\", data = imdb_top_5000_clean, scatter_kws= {\"color\": \"green\"},\n",
    "           line_kws= {\"color\": \"orange\"})\n",
    "plt.title(\"Correlation between Movie Budget and Revenue\")\n",
    "plt.xlabel(\"Budget\")\n",
    "plt.ylabel(\"Revenue\")"
   ]
  },
  {
   "cell_type": "markdown",
   "id": "c0d3143d",
   "metadata": {},
   "source": [
    "#### We see from analysis above that budget is a relatively good predictor of a movie's revenue, with a Person's r of __0.697011__"
   ]
  },
  {
   "cell_type": "markdown",
   "id": "60162855",
   "metadata": {},
   "source": [
    "## Who are The Highest Grossing Directors?"
   ]
  },
  {
   "cell_type": "code",
   "execution_count": 428,
   "id": "abe4620e",
   "metadata": {},
   "outputs": [
    {
     "data": {
      "text/html": [
       "<div>\n",
       "<style scoped>\n",
       "    .dataframe tbody tr th:only-of-type {\n",
       "        vertical-align: middle;\n",
       "    }\n",
       "\n",
       "    .dataframe tbody tr th {\n",
       "        vertical-align: top;\n",
       "    }\n",
       "\n",
       "    .dataframe thead th {\n",
       "        text-align: right;\n",
       "    }\n",
       "</style>\n",
       "<table border=\"1\" class=\"dataframe\">\n",
       "  <thead>\n",
       "    <tr style=\"text-align: right;\">\n",
       "      <th></th>\n",
       "      <th>main_director</th>\n",
       "      <th>revenue</th>\n",
       "    </tr>\n",
       "  </thead>\n",
       "  <tbody>\n",
       "    <tr>\n",
       "      <th>0</th>\n",
       "      <td>Marc Webb</td>\n",
       "      <td>60722734</td>\n",
       "    </tr>\n",
       "    <tr>\n",
       "      <th>1</th>\n",
       "      <td>Gil Junger</td>\n",
       "      <td>53478166</td>\n",
       "    </tr>\n",
       "    <tr>\n",
       "      <th>2</th>\n",
       "      <td>Kevin Lima</td>\n",
       "      <td>183611771</td>\n",
       "    </tr>\n",
       "    <tr>\n",
       "      <th>3</th>\n",
       "      <td>Robert Moresco</td>\n",
       "      <td>143451</td>\n",
       "    </tr>\n",
       "    <tr>\n",
       "      <th>4</th>\n",
       "      <td>William Friedkin</td>\n",
       "      <td>1000000</td>\n",
       "    </tr>\n",
       "    <tr>\n",
       "      <th>...</th>\n",
       "      <td>...</td>\n",
       "      <td>...</td>\n",
       "    </tr>\n",
       "    <tr>\n",
       "      <th>2847</th>\n",
       "      <td>Ben Stiller</td>\n",
       "      <td>60780981</td>\n",
       "    </tr>\n",
       "    <tr>\n",
       "      <th>2848</th>\n",
       "      <td>Peter Hewitt</td>\n",
       "      <td>12506188</td>\n",
       "    </tr>\n",
       "    <tr>\n",
       "      <th>2849</th>\n",
       "      <td>David Cronenberg</td>\n",
       "      <td>2856712</td>\n",
       "    </tr>\n",
       "    <tr>\n",
       "      <th>2850</th>\n",
       "      <td>Rob Cohen</td>\n",
       "      <td>277448382</td>\n",
       "    </tr>\n",
       "    <tr>\n",
       "      <th>2851</th>\n",
       "      <td>Lee Tamahori</td>\n",
       "      <td>71073932</td>\n",
       "    </tr>\n",
       "  </tbody>\n",
       "</table>\n",
       "<p>2852 rows × 2 columns</p>\n",
       "</div>"
      ],
      "text/plain": [
       "         main_director    revenue\n",
       "0            Marc Webb   60722734\n",
       "1           Gil Junger   53478166\n",
       "2           Kevin Lima  183611771\n",
       "3       Robert Moresco     143451\n",
       "4     William Friedkin    1000000\n",
       "...                ...        ...\n",
       "2847       Ben Stiller   60780981\n",
       "2848      Peter Hewitt   12506188\n",
       "2849  David Cronenberg    2856712\n",
       "2850         Rob Cohen  277448382\n",
       "2851      Lee Tamahori   71073932\n",
       "\n",
       "[2852 rows x 2 columns]"
      ]
     },
     "execution_count": 428,
     "metadata": {},
     "output_type": "execute_result"
    }
   ],
   "source": [
    "imdb_top_5000_clean[[\"main_director\", \"revenue\"]]"
   ]
  },
  {
   "cell_type": "code",
   "execution_count": 429,
   "id": "fa7765f7",
   "metadata": {},
   "outputs": [],
   "source": [
    "imdb_director = imdb_top_5000_clean[[\"main_director\", \"revenue\"]].groupby(\"main_director\")"
   ]
  },
  {
   "cell_type": "code",
   "execution_count": 430,
   "id": "38e7d967",
   "metadata": {},
   "outputs": [
    {
     "data": {
      "text/html": [
       "<div>\n",
       "<style scoped>\n",
       "    .dataframe tbody tr th:only-of-type {\n",
       "        vertical-align: middle;\n",
       "    }\n",
       "\n",
       "    .dataframe tbody tr th {\n",
       "        vertical-align: top;\n",
       "    }\n",
       "\n",
       "    .dataframe thead th {\n",
       "        text-align: right;\n",
       "    }\n",
       "</style>\n",
       "<table border=\"1\" class=\"dataframe\">\n",
       "  <thead>\n",
       "    <tr style=\"text-align: right;\">\n",
       "      <th></th>\n",
       "      <th>revenue</th>\n",
       "    </tr>\n",
       "    <tr>\n",
       "      <th>main_director</th>\n",
       "      <th></th>\n",
       "    </tr>\n",
       "  </thead>\n",
       "  <tbody>\n",
       "    <tr>\n",
       "      <th>Steven Spielberg</th>\n",
       "      <td>8934596656</td>\n",
       "    </tr>\n",
       "    <tr>\n",
       "      <th>Peter Jackson</th>\n",
       "      <td>6498642820</td>\n",
       "    </tr>\n",
       "    <tr>\n",
       "      <th>James Cameron</th>\n",
       "      <td>5883569439</td>\n",
       "    </tr>\n",
       "    <tr>\n",
       "      <th>Michael Bay</th>\n",
       "      <td>5621706244</td>\n",
       "    </tr>\n",
       "    <tr>\n",
       "      <th>Christopher Nolan</th>\n",
       "      <td>4227483234</td>\n",
       "    </tr>\n",
       "    <tr>\n",
       "      <th>Robert Zemeckis</th>\n",
       "      <td>3394886126</td>\n",
       "    </tr>\n",
       "    <tr>\n",
       "      <th>Chris Columbus</th>\n",
       "      <td>3366639822</td>\n",
       "    </tr>\n",
       "    <tr>\n",
       "      <th>George Lucas</th>\n",
       "      <td>3339113893</td>\n",
       "    </tr>\n",
       "    <tr>\n",
       "      <th>Tim Burton</th>\n",
       "      <td>3337418241</td>\n",
       "    </tr>\n",
       "    <tr>\n",
       "      <th>Gore Verbinski</th>\n",
       "      <td>3177013357</td>\n",
       "    </tr>\n",
       "  </tbody>\n",
       "</table>\n",
       "</div>"
      ],
      "text/plain": [
       "                      revenue\n",
       "main_director                \n",
       "Steven Spielberg   8934596656\n",
       "Peter Jackson      6498642820\n",
       "James Cameron      5883569439\n",
       "Michael Bay        5621706244\n",
       "Christopher Nolan  4227483234\n",
       "Robert Zemeckis    3394886126\n",
       "Chris Columbus     3366639822\n",
       "George Lucas       3339113893\n",
       "Tim Burton         3337418241\n",
       "Gore Verbinski     3177013357"
      ]
     },
     "execution_count": 430,
     "metadata": {},
     "output_type": "execute_result"
    }
   ],
   "source": [
    "highest_total_earner_director = imdb_director.sum().sort_values(\"revenue\", ascending= False).head(10).copy()\n",
    "highest_total_earner_director"
   ]
  },
  {
   "cell_type": "code",
   "execution_count": 431,
   "id": "9fd76990",
   "metadata": {},
   "outputs": [
    {
     "data": {
      "text/html": [
       "<div>\n",
       "<style scoped>\n",
       "    .dataframe tbody tr th:only-of-type {\n",
       "        vertical-align: middle;\n",
       "    }\n",
       "\n",
       "    .dataframe tbody tr th {\n",
       "        vertical-align: top;\n",
       "    }\n",
       "\n",
       "    .dataframe thead th {\n",
       "        text-align: right;\n",
       "    }\n",
       "</style>\n",
       "<table border=\"1\" class=\"dataframe\">\n",
       "  <thead>\n",
       "    <tr style=\"text-align: right;\">\n",
       "      <th></th>\n",
       "      <th>revenue</th>\n",
       "    </tr>\n",
       "    <tr>\n",
       "      <th>main_director</th>\n",
       "      <th></th>\n",
       "    </tr>\n",
       "  </thead>\n",
       "  <tbody>\n",
       "    <tr>\n",
       "      <th>Adam Green</th>\n",
       "      <td>1.274219e+09</td>\n",
       "    </tr>\n",
       "    <tr>\n",
       "      <th>Kyle Balda</th>\n",
       "      <td>1.156731e+09</td>\n",
       "    </tr>\n",
       "    <tr>\n",
       "      <th>Joss Whedon</th>\n",
       "      <td>9.879437e+08</td>\n",
       "    </tr>\n",
       "    <tr>\n",
       "      <th>David Yates</th>\n",
       "      <td>9.360860e+08</td>\n",
       "    </tr>\n",
       "    <tr>\n",
       "      <th>Pete Docter</th>\n",
       "      <td>8.576112e+08</td>\n",
       "    </tr>\n",
       "    <tr>\n",
       "      <th>James Cameron</th>\n",
       "      <td>8.405099e+08</td>\n",
       "    </tr>\n",
       "    <tr>\n",
       "      <th>Lee Unkrich</th>\n",
       "      <td>8.148930e+08</td>\n",
       "    </tr>\n",
       "    <tr>\n",
       "      <th>Colin Trevorrow</th>\n",
       "      <td>7.587683e+08</td>\n",
       "    </tr>\n",
       "    <tr>\n",
       "      <th>Robert Stromberg</th>\n",
       "      <td>7.585398e+08</td>\n",
       "    </tr>\n",
       "    <tr>\n",
       "      <th>Pierre Coffin</th>\n",
       "      <td>7.571379e+08</td>\n",
       "    </tr>\n",
       "  </tbody>\n",
       "</table>\n",
       "</div>"
      ],
      "text/plain": [
       "                       revenue\n",
       "main_director                 \n",
       "Adam Green        1.274219e+09\n",
       "Kyle Balda        1.156731e+09\n",
       "Joss Whedon       9.879437e+08\n",
       "David Yates       9.360860e+08\n",
       "Pete Docter       8.576112e+08\n",
       "James Cameron     8.405099e+08\n",
       "Lee Unkrich       8.148930e+08\n",
       "Colin Trevorrow   7.587683e+08\n",
       "Robert Stromberg  7.585398e+08\n",
       "Pierre Coffin     7.571379e+08"
      ]
     },
     "execution_count": 431,
     "metadata": {},
     "output_type": "execute_result"
    }
   ],
   "source": [
    "highest_average_earner_director = imdb_director.mean().sort_values(\"revenue\", ascending= False).head(10).copy()\n",
    "highest_average_earner_director"
   ]
  },
  {
   "cell_type": "code",
   "execution_count": 432,
   "id": "2ea54966",
   "metadata": {},
   "outputs": [
    {
     "name": "stdout",
     "output_type": "stream",
     "text": [
      "['Solarize_Light2', '_classic_test_patch', 'bmh', 'classic', 'dark_background', 'fast', 'fivethirtyeight', 'ggplot', 'grayscale', 'seaborn', 'seaborn-bright', 'seaborn-colorblind', 'seaborn-dark', 'seaborn-dark-palette', 'seaborn-darkgrid', 'seaborn-deep', 'seaborn-muted', 'seaborn-notebook', 'seaborn-paper', 'seaborn-pastel', 'seaborn-poster', 'seaborn-talk', 'seaborn-ticks', 'seaborn-white', 'seaborn-whitegrid', 'tableau-colorblind10']\n"
     ]
    }
   ],
   "source": [
    "print(plt.style.available)"
   ]
  },
  {
   "cell_type": "code",
   "execution_count": 433,
   "id": "3377dfbe",
   "metadata": {},
   "outputs": [
    {
     "data": {
      "image/png": "[encoded data removed]",
      "text/plain": [
       "<Figure size 720x432 with 1 Axes>"
      ]
     },
     "metadata": {},
     "output_type": "display_data"
    }
   ],
   "source": [
    "plt.style.use('fivethirtyeight')\n",
    "fig, ax = plt.subplots()\n",
    "y_axis = highest_total_earner_director[\"revenue\"]\n",
    "x_axis = list(highest_total_earner_director.index.values)\n",
    "ax.bar(x_axis, y_axis)\n",
    "plt.xticks(rotation=90)\n",
    "plt.ticklabel_format(axis=\"y\", style='plain')\n",
    "ax.get_yaxis().set_major_formatter(matplotlib.ticker.FuncFormatter(lambda x, p: format(int(x), ',')))\n",
    "plt.title(\"Top 10 Highest Grossing Directors\")\n",
    "plt.xlabel(\"Directors\")\n",
    "plt.ylabel(\"Total Movie Revenue\")\n",
    "plt.show()"
   ]
  },
  {
   "cell_type": "code",
   "execution_count": 434,
   "id": "a3296a0e",
   "metadata": {
    "scrolled": false
   },
   "outputs": [
    {
     "data": {
      "image/png": "[encoded data removed]",
      "text/plain": [
       "<Figure size 720x432 with 1 Axes>"
      ]
     },
     "metadata": {},
     "output_type": "display_data"
    }
   ],
   "source": [
    "plt.style.use('fivethirtyeight')\n",
    "fig, ax = plt.subplots()\n",
    "y_axis = highest_average_earner_director[\"revenue\"]\n",
    "x_axis = list(highest_average_earner_director.index.values)\n",
    "ax.bar(x_axis, y_axis)\n",
    "plt.xticks(rotation=90)\n",
    "plt.ticklabel_format(axis=\"y\", style='plain')\n",
    "ax.get_yaxis().set_major_formatter(matplotlib.ticker.FuncFormatter(lambda x, p: format(int(x), ',')))\n",
    "plt.title(\"Top 10 Highest Grossing Directors on Average\")\n",
    "plt.xlabel(\"Directos\")\n",
    "plt.ylabel(\"Average Movie Revenue\")\n",
    "plt.show()"
   ]
  },
  {
   "cell_type": "markdown",
   "id": "0695a315",
   "metadata": {},
   "source": [
    "#### No surprise in highest grossing overall, but many surpises on highest grossing on average"
   ]
  },
  {
   "cell_type": "markdown",
   "id": "76c33f87",
   "metadata": {},
   "source": [
    "## Who are The Highest Grossing Actors/Actresses?"
   ]
  },
  {
   "cell_type": "code",
   "execution_count": 435,
   "id": "bfffd3fa",
   "metadata": {},
   "outputs": [],
   "source": [
    "actors = imdb_top_5000_clean[[\"cast_1\", \"cast_2\", \"cast_3\", \"revenue\"]]"
   ]
  },
  {
   "cell_type": "code",
   "execution_count": 436,
   "id": "07b798c3",
   "metadata": {},
   "outputs": [],
   "source": [
    "actors_earnings = pd.melt(actors, id_vars= \"revenue\", value_vars= [\"cast_1\", \"cast_2\", \"cast_3\"]).sort_values([\"revenue\",\n",
    "    \"variable\"], ascending = [False, True])\n",
    "actors_earnings = actors_earnings.groupby('value')"
   ]
  },
  {
   "cell_type": "code",
   "execution_count": 437,
   "id": "2ac5076b",
   "metadata": {},
   "outputs": [
    {
     "data": {
      "text/html": [
       "<div>\n",
       "<style scoped>\n",
       "    .dataframe tbody tr th:only-of-type {\n",
       "        vertical-align: middle;\n",
       "    }\n",
       "\n",
       "    .dataframe tbody tr th {\n",
       "        vertical-align: top;\n",
       "    }\n",
       "\n",
       "    .dataframe thead th {\n",
       "        text-align: right;\n",
       "    }\n",
       "</style>\n",
       "<table border=\"1\" class=\"dataframe\">\n",
       "  <thead>\n",
       "    <tr style=\"text-align: right;\">\n",
       "      <th></th>\n",
       "      <th>revenue</th>\n",
       "    </tr>\n",
       "    <tr>\n",
       "      <th>value</th>\n",
       "      <th></th>\n",
       "    </tr>\n",
       "  </thead>\n",
       "  <tbody>\n",
       "    <tr>\n",
       "      <th>Tom Cruise</th>\n",
       "      <td>8111534993</td>\n",
       "    </tr>\n",
       "    <tr>\n",
       "      <th>Ian McKellen</th>\n",
       "      <td>7854210133</td>\n",
       "    </tr>\n",
       "    <tr>\n",
       "      <th>Tom Hanks</th>\n",
       "      <td>7852031825</td>\n",
       "    </tr>\n",
       "    <tr>\n",
       "      <th>Johnny Depp</th>\n",
       "      <td>7574994998</td>\n",
       "    </tr>\n",
       "    <tr>\n",
       "      <th>Robert Downey Jr.</th>\n",
       "      <td>6883103410</td>\n",
       "    </tr>\n",
       "    <tr>\n",
       "      <th>Cameron Diaz</th>\n",
       "      <td>6553083103</td>\n",
       "    </tr>\n",
       "    <tr>\n",
       "      <th>Will Smith</th>\n",
       "      <td>6521416886</td>\n",
       "    </tr>\n",
       "    <tr>\n",
       "      <th>Leonardo DiCaprio</th>\n",
       "      <td>6369810542</td>\n",
       "    </tr>\n",
       "    <tr>\n",
       "      <th>Harrison Ford</th>\n",
       "      <td>6327584691</td>\n",
       "    </tr>\n",
       "    <tr>\n",
       "      <th>Ben Stiller</th>\n",
       "      <td>6068345345</td>\n",
       "    </tr>\n",
       "  </tbody>\n",
       "</table>\n",
       "</div>"
      ],
      "text/plain": [
       "                      revenue\n",
       "value                        \n",
       "Tom Cruise         8111534993\n",
       "Ian McKellen       7854210133\n",
       "Tom Hanks          7852031825\n",
       "Johnny Depp        7574994998\n",
       "Robert Downey Jr.  6883103410\n",
       "Cameron Diaz       6553083103\n",
       "Will Smith         6521416886\n",
       "Leonardo DiCaprio  6369810542\n",
       "Harrison Ford      6327584691\n",
       "Ben Stiller        6068345345"
      ]
     },
     "execution_count": 437,
     "metadata": {},
     "output_type": "execute_result"
    }
   ],
   "source": [
    "highest_total_earner_actor = actors_earnings.sum().sort_values(\"revenue\", ascending= False).head(10)\n",
    "highest_total_earner_actor"
   ]
  },
  {
   "cell_type": "code",
   "execution_count": 438,
   "id": "e8f8cb3b",
   "metadata": {},
   "outputs": [
    {
     "data": {
      "text/html": [
       "<div>\n",
       "<style scoped>\n",
       "    .dataframe tbody tr th:only-of-type {\n",
       "        vertical-align: middle;\n",
       "    }\n",
       "\n",
       "    .dataframe tbody tr th {\n",
       "        vertical-align: top;\n",
       "    }\n",
       "\n",
       "    .dataframe thead th {\n",
       "        text-align: right;\n",
       "    }\n",
       "</style>\n",
       "<table border=\"1\" class=\"dataframe\">\n",
       "  <thead>\n",
       "    <tr style=\"text-align: right;\">\n",
       "      <th></th>\n",
       "      <th>revenue</th>\n",
       "    </tr>\n",
       "    <tr>\n",
       "      <th>value</th>\n",
       "      <th></th>\n",
       "    </tr>\n",
       "  </thead>\n",
       "  <tbody>\n",
       "    <tr>\n",
       "      <th>Frances Fisher</th>\n",
       "      <td>1.845034e+09</td>\n",
       "    </tr>\n",
       "    <tr>\n",
       "      <th>Shawn Ashmore</th>\n",
       "      <td>1.274219e+09</td>\n",
       "    </tr>\n",
       "    <tr>\n",
       "      <th>Alexander Gould</th>\n",
       "      <td>9.403355e+08</td>\n",
       "    </tr>\n",
       "    <tr>\n",
       "      <th>Ellen DeGeneres</th>\n",
       "      <td>9.403355e+08</td>\n",
       "    </tr>\n",
       "    <tr>\n",
       "      <th>LÃ©a Seydoux</th>\n",
       "      <td>8.806746e+08</td>\n",
       "    </tr>\n",
       "    <tr>\n",
       "      <th>Chris Wedge</th>\n",
       "      <td>8.772448e+08</td>\n",
       "    </tr>\n",
       "    <tr>\n",
       "      <th>Phyllis Smith</th>\n",
       "      <td>8.576112e+08</td>\n",
       "    </tr>\n",
       "    <tr>\n",
       "      <th>Robert MacNaughton</th>\n",
       "      <td>7.929106e+08</td>\n",
       "    </tr>\n",
       "    <tr>\n",
       "      <th>Jonathan Taylor Thomas</th>\n",
       "      <td>7.882418e+08</td>\n",
       "    </tr>\n",
       "    <tr>\n",
       "      <th>Chris Pratt</th>\n",
       "      <td>7.793405e+08</td>\n",
       "    </tr>\n",
       "  </tbody>\n",
       "</table>\n",
       "</div>"
      ],
      "text/plain": [
       "                             revenue\n",
       "value                               \n",
       "Frances Fisher          1.845034e+09\n",
       "Shawn Ashmore           1.274219e+09\n",
       "Alexander Gould         9.403355e+08\n",
       "Ellen DeGeneres         9.403355e+08\n",
       "LÃ©a Seydoux            8.806746e+08\n",
       "Chris Wedge             8.772448e+08\n",
       "Phyllis Smith           8.576112e+08\n",
       "Robert MacNaughton      7.929106e+08\n",
       "Jonathan Taylor Thomas  7.882418e+08\n",
       "Chris Pratt             7.793405e+08"
      ]
     },
     "execution_count": 438,
     "metadata": {},
     "output_type": "execute_result"
    }
   ],
   "source": [
    "highest_average_earner_actor = actors_earnings.mean().sort_values(\"revenue\", ascending= False).head(10)\n",
    "highest_average_earner_actor"
   ]
  },
  {
   "cell_type": "code",
   "execution_count": 439,
   "id": "d38dd09c",
   "metadata": {},
   "outputs": [
    {
     "data": {
      "image/png": "[encoded data removed]",
      "text/plain": [
       "<Figure size 720x432 with 1 Axes>"
      ]
     },
     "metadata": {},
     "output_type": "display_data"
    }
   ],
   "source": [
    "plt.style.use('fivethirtyeight')\n",
    "fig, ax = plt.subplots()\n",
    "y_axis = highest_total_earner_actor[\"revenue\"]\n",
    "x_axis = list(highest_total_earner_actor.index.values)\n",
    "ax.bar(x_axis, y_axis)\n",
    "plt.xticks(rotation=90)\n",
    "plt.ticklabel_format(axis=\"y\", style='plain')\n",
    "ax.get_yaxis().set_major_formatter(\n",
    "    matplotlib.ticker.FuncFormatter(lambda x, p: format(int(x), ',')))\n",
    "plt.title(\"Top 10 Highest Grossing Actors/Actresses\")\n",
    "plt.xlabel(\"Actor/Actresses\")\n",
    "plt.ylabel(\"Total Movie Revenue\")\n",
    "plt.show()"
   ]
  },
  {
   "cell_type": "code",
   "execution_count": 440,
   "id": "a4160972",
   "metadata": {},
   "outputs": [
    {
     "data": {
      "image/png": "[encoded data removed]",
      "text/plain": [
       "<Figure size 720x432 with 1 Axes>"
      ]
     },
     "metadata": {},
     "output_type": "display_data"
    }
   ],
   "source": [
    "plt.style.use('fivethirtyeight')\n",
    "fig, ax = plt.subplots()\n",
    "y_axis = highest_average_earner_actor[\"revenue\"]\n",
    "x_axis = list(highest_average_earner_actor.index.values)\n",
    "ax.bar(x_axis, y_axis)\n",
    "plt.xticks(rotation=90)\n",
    "plt.ticklabel_format(axis=\"y\", style='plain')\n",
    "ax.get_yaxis().set_major_formatter(matplotlib.ticker.FuncFormatter(lambda x, p: format(int(x), ',')))\n",
    "plt.title(\"Top 10 Highest Grossing Actors/Actresses on Average\")\n",
    "plt.xlabel(\"Actor/Actresses\")\n",
    "plt.ylabel(\"Average Movie Revenue\")\n",
    "plt.show()"
   ]
  },
  {
   "cell_type": "markdown",
   "id": "631f6c9e",
   "metadata": {},
   "source": [
    "#### Again, familiar superstars in highest grossing overall but many surprising names in highest grossing on average."
   ]
  },
  {
   "cell_type": "code",
   "execution_count": null,
   "id": "67505310",
   "metadata": {},
   "outputs": [],
   "source": []
  },
  {
   "cell_type": "code",
   "execution_count": null,
   "id": "1eecd2ed",
   "metadata": {},
   "outputs": [],
   "source": []
  },
  {
   "cell_type": "code",
   "execution_count": null,
   "id": "36bc9835",
   "metadata": {},
   "outputs": [],
   "source": []
  },
  {
   "cell_type": "code",
   "execution_count": null,
   "id": "e07eaf90",
   "metadata": {},
   "outputs": [],
   "source": []
  },
  {
   "cell_type": "code",
   "execution_count": null,
   "id": "d91cd607",
   "metadata": {},
   "outputs": [],
   "source": []
  },
  {
   "cell_type": "code",
   "execution_count": null,
   "id": "6f7207f1",
   "metadata": {},
   "outputs": [],
   "source": []
  },
  {
   "cell_type": "code",
   "execution_count": null,
   "id": "44dc0e4c",
   "metadata": {},
   "outputs": [],
   "source": []
  },
  {
   "cell_type": "code",
   "execution_count": null,
   "id": "43861a40",
   "metadata": {},
   "outputs": [],
   "source": []
  },
  {
   "cell_type": "code",
   "execution_count": null,
   "id": "e11d2b85",
   "metadata": {},
   "outputs": [],
   "source": []
  },
  {
   "cell_type": "code",
   "execution_count": null,
   "id": "355ca803",
   "metadata": {},
   "outputs": [],
   "source": []
  },
  {
   "cell_type": "code",
   "execution_count": null,
   "id": "07da6058",
   "metadata": {},
   "outputs": [],
   "source": []
  },
  {
   "cell_type": "code",
   "execution_count": null,
   "id": "14c2fc58",
   "metadata": {},
   "outputs": [],
   "source": []
  },
  {
   "cell_type": "code",
   "execution_count": null,
   "id": "485d51e0",
   "metadata": {},
   "outputs": [],
   "source": []
  },
  {
   "cell_type": "code",
   "execution_count": null,
   "id": "d7830601",
   "metadata": {},
   "outputs": [],
   "source": []
  },
  {
   "cell_type": "code",
   "execution_count": null,
   "id": "a1df692f",
   "metadata": {},
   "outputs": [],
   "source": []
  },
  {
   "cell_type": "code",
   "execution_count": null,
   "id": "90b8a658",
   "metadata": {},
   "outputs": [],
   "source": []
  },
  {
   "cell_type": "code",
   "execution_count": null,
   "id": "60eab2fe",
   "metadata": {},
   "outputs": [],
   "source": []
  },
  {
   "cell_type": "code",
   "execution_count": null,
   "id": "8d83fdc9",
   "metadata": {},
   "outputs": [],
   "source": []
  },
  {
   "cell_type": "code",
   "execution_count": null,
   "id": "9e65dcba",
   "metadata": {},
   "outputs": [],
   "source": []
  },
  {
   "cell_type": "code",
   "execution_count": null,
   "id": "c1d934fa",
   "metadata": {},
   "outputs": [],
   "source": []
  },
  {
   "cell_type": "code",
   "execution_count": null,
   "id": "3e1aab4a",
   "metadata": {},
   "outputs": [],
   "source": []
  },
  {
   "cell_type": "code",
   "execution_count": null,
   "id": "3faa7fc8",
   "metadata": {},
   "outputs": [],
   "source": []
  },
  {
   "cell_type": "code",
   "execution_count": null,
   "id": "29222713",
   "metadata": {},
   "outputs": [],
   "source": []
  },
  {
   "cell_type": "code",
   "execution_count": null,
   "id": "c87af869",
   "metadata": {},
   "outputs": [],
   "source": []
  }
 ],
 "metadata": {
  "kernelspec": {
   "display_name": "Python 3 (ipykernel)",
   "language": "python",
   "name": "python3"
  },
  "language_info": {
   "codemirror_mode": {
    "name": "ipython",
    "version": 3
   },
   "file_extension": ".py",
   "mimetype": "text/x-python",
   "name": "python",
   "nbconvert_exporter": "python",
   "pygments_lexer": "ipython3",
   "version": "3.9.7"
  },
  "toc": {
   "base_numbering": 1,
   "nav_menu": {},
   "number_sections": true,
   "sideBar": true,
   "skip_h1_title": false,
   "title_cell": "Table of Contents",
   "title_sidebar": "Contents",
   "toc_cell": false,
   "toc_position": {},
   "toc_section_display": true,
   "toc_window_display": true
  },
  "varInspector": {
   "cols": {
    "lenName": 16,
    "lenType": 16,
    "lenVar": 40
   },
   "kernels_config": {
    "python": {
     "delete_cmd_postfix": "",
     "delete_cmd_prefix": "del ",
     "library": "var_list.py",
     "varRefreshCmd": "print(var_dic_list())"
    },
    "r": {
     "delete_cmd_postfix": ") ",
     "delete_cmd_prefix": "rm(",
     "library": "var_list.r",
     "varRefreshCmd": "cat(var_dic_list()) "
    }
   },
   "types_to_exclude": [
    "module",
    "function",
    "builtin_function_or_method",
    "instance",
    "_Feature"
   ],
   "window_display": false
  }
 },
 "nbformat": 4,
 "nbformat_minor": 5
}
